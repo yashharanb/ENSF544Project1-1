{
 "metadata": {
  "language_info": {
   "codemirror_mode": {
    "name": "ipython",
    "version": 3
   },
   "file_extension": ".py",
   "mimetype": "text/x-python",
   "name": "python",
   "nbconvert_exporter": "python",
   "pygments_lexer": "ipython3",
   "version": "3.8.5-final"
  },
  "orig_nbformat": 2,
  "kernelspec": {
   "name": "Python 3.8.5 64-bit",
   "display_name": "Python 3.8.5 64-bit",
   "metadata": {
    "interpreter": {
     "hash": "4a3cf7b4348814504f4b45e3db1e15978a04fc491c2ab7e686d97bcd9694af92"
    }
   }
  }
 },
 "nbformat": 4,
 "nbformat_minor": 2,
 "cells": [
  {
   "cell_type": "code",
   "execution_count": 7,
   "metadata": {},
   "outputs": [
    {
     "output_type": "execute_result",
     "data": {
      "text/plain": [
       "                                title  year date_published  \\\n",
       "0                          Miss Jerry  1894     1894-10-09   \n",
       "1         The Story of the Kelly Gang  1906     1906-12-26   \n",
       "2                      Den sorte drøm  1911     1911-08-19   \n",
       "3                           Cleopatra  1912     1912-11-13   \n",
       "4                           L'Inferno  1911     1911-03-06   \n",
       "...                               ...   ...            ...   \n",
       "85850                         Le lion  2020     2020-01-29   \n",
       "85851  De Beentjes van Sint-Hildegard  2020     2020-02-13   \n",
       "85852       Padmavyuhathile Abhimanyu  2019     2019-03-08   \n",
       "85853               Sokagin Çocuklari  2019     2019-03-15   \n",
       "85854      La vida sense la Sara Amat  2019     2020-02-05   \n",
       "\n",
       "                           genre  duration           country       language  \\\n",
       "0                        Romance        45               USA           None   \n",
       "1        Biography, Crime, Drama        70         Australia           None   \n",
       "2                          Drama        53  Germany, Denmark            NaN   \n",
       "3                 Drama, History       100               USA        English   \n",
       "4      Adventure, Drama, Fantasy        68             Italy        Italian   \n",
       "...                          ...       ...               ...            ...   \n",
       "85850                     Comedy        95   France, Belgium         French   \n",
       "85851              Comedy, Drama       103       Netherlands  German, Dutch   \n",
       "85852                      Drama       130             India      Malayalam   \n",
       "85853              Drama, Family        98            Turkey        Turkish   \n",
       "85854                      Drama        74             Spain        Catalan   \n",
       "\n",
       "                                  director  \\\n",
       "0                          Alexander Black   \n",
       "1                             Charles Tait   \n",
       "2                                Urban Gad   \n",
       "3                       Charles L. Gaskill   \n",
       "4      Francesco Bertolini, Adolfo Padovan   \n",
       "...                                    ...   \n",
       "85850               Ludovic Colbeau-Justin   \n",
       "85851                      Johan Nijenhuis   \n",
       "85852                      Vineesh Aaradya   \n",
       "85853                    Ahmet Faik Akinci   \n",
       "85854                            Laura Jou   \n",
       "\n",
       "                                                  actors  avg_vote  votes  \\\n",
       "0      Blanche Bayliss, William Courtenay, Chauncey D...       5.9    154   \n",
       "1      Elizabeth Tait, John Tait, Norman Campbell, Be...       6.1    589   \n",
       "2      Asta Nielsen, Valdemar Psilander, Gunnar Helse...       5.8    188   \n",
       "3      Helen Gardner, Pearl Sindelar, Miss Fielding, ...       5.2    446   \n",
       "4      Salvatore Papa, Arturo Pirovano, Giuseppe de L...       7.0   2237   \n",
       "...                                                  ...       ...    ...   \n",
       "85850  Dany Boon, Philippe Katerine, Anne Serra, Samu...       5.3    398   \n",
       "85851  Herman Finkers, Johanna ter Steege, Leonie ter...       7.7    724   \n",
       "85852  Anoop Chandran, Indrans, Sona Nair, Simon Brit...       7.9    265   \n",
       "85853  Ahmet Faik Akinci, Belma Mamati, Metin Keçeci,...       6.4    194   \n",
       "85854  Maria Morera Colomer, Biel Rossell Pelfort, Is...       6.7    102   \n",
       "\n",
       "        budget usa_gross_income worldwide_gross_income  metascore  \\\n",
       "0          NaN              NaN                    NaN        NaN   \n",
       "1       $2,250              NaN                    NaN        NaN   \n",
       "2          NaN              NaN                    NaN        NaN   \n",
       "3      $45,000              NaN                    NaN        NaN   \n",
       "4          NaN              NaN                    NaN        NaN   \n",
       "...        ...              ...                    ...        ...   \n",
       "85850      NaN              NaN             $3,507,171        NaN   \n",
       "85851      NaN              NaN             $7,299,062        NaN   \n",
       "85852      NaN              NaN                    NaN        NaN   \n",
       "85853      NaN              NaN                 $2,833        NaN   \n",
       "85854      NaN              NaN                $59,794        NaN   \n",
       "\n",
       "       reviews_from_users  reviews_from_critics  \n",
       "0                     1.0                   2.0  \n",
       "1                     7.0                   7.0  \n",
       "2                     5.0                   2.0  \n",
       "3                    25.0                   3.0  \n",
       "4                    31.0                  14.0  \n",
       "...                   ...                   ...  \n",
       "85850                 NaN                   4.0  \n",
       "85851                 6.0                   4.0  \n",
       "85852                 NaN                   NaN  \n",
       "85853                 NaN                   NaN  \n",
       "85854                 NaN                   2.0  \n",
       "\n",
       "[85855 rows x 17 columns]"
      ],
      "text/html": "<div>\n<style scoped>\n    .dataframe tbody tr th:only-of-type {\n        vertical-align: middle;\n    }\n\n    .dataframe tbody tr th {\n        vertical-align: top;\n    }\n\n    .dataframe thead th {\n        text-align: right;\n    }\n</style>\n<table border=\"1\" class=\"dataframe\">\n  <thead>\n    <tr style=\"text-align: right;\">\n      <th></th>\n      <th>title</th>\n      <th>year</th>\n      <th>date_published</th>\n      <th>genre</th>\n      <th>duration</th>\n      <th>country</th>\n      <th>language</th>\n      <th>director</th>\n      <th>actors</th>\n      <th>avg_vote</th>\n      <th>votes</th>\n      <th>budget</th>\n      <th>usa_gross_income</th>\n      <th>worldwide_gross_income</th>\n      <th>metascore</th>\n      <th>reviews_from_users</th>\n      <th>reviews_from_critics</th>\n    </tr>\n  </thead>\n  <tbody>\n    <tr>\n      <th>0</th>\n      <td>Miss Jerry</td>\n      <td>1894</td>\n      <td>1894-10-09</td>\n      <td>Romance</td>\n      <td>45</td>\n      <td>USA</td>\n      <td>None</td>\n      <td>Alexander Black</td>\n      <td>Blanche Bayliss, William Courtenay, Chauncey D...</td>\n      <td>5.9</td>\n      <td>154</td>\n      <td>NaN</td>\n      <td>NaN</td>\n      <td>NaN</td>\n      <td>NaN</td>\n      <td>1.0</td>\n      <td>2.0</td>\n    </tr>\n    <tr>\n      <th>1</th>\n      <td>The Story of the Kelly Gang</td>\n      <td>1906</td>\n      <td>1906-12-26</td>\n      <td>Biography, Crime, Drama</td>\n      <td>70</td>\n      <td>Australia</td>\n      <td>None</td>\n      <td>Charles Tait</td>\n      <td>Elizabeth Tait, John Tait, Norman Campbell, Be...</td>\n      <td>6.1</td>\n      <td>589</td>\n      <td>$2,250</td>\n      <td>NaN</td>\n      <td>NaN</td>\n      <td>NaN</td>\n      <td>7.0</td>\n      <td>7.0</td>\n    </tr>\n    <tr>\n      <th>2</th>\n      <td>Den sorte drøm</td>\n      <td>1911</td>\n      <td>1911-08-19</td>\n      <td>Drama</td>\n      <td>53</td>\n      <td>Germany, Denmark</td>\n      <td>NaN</td>\n      <td>Urban Gad</td>\n      <td>Asta Nielsen, Valdemar Psilander, Gunnar Helse...</td>\n      <td>5.8</td>\n      <td>188</td>\n      <td>NaN</td>\n      <td>NaN</td>\n      <td>NaN</td>\n      <td>NaN</td>\n      <td>5.0</td>\n      <td>2.0</td>\n    </tr>\n    <tr>\n      <th>3</th>\n      <td>Cleopatra</td>\n      <td>1912</td>\n      <td>1912-11-13</td>\n      <td>Drama, History</td>\n      <td>100</td>\n      <td>USA</td>\n      <td>English</td>\n      <td>Charles L. Gaskill</td>\n      <td>Helen Gardner, Pearl Sindelar, Miss Fielding, ...</td>\n      <td>5.2</td>\n      <td>446</td>\n      <td>$45,000</td>\n      <td>NaN</td>\n      <td>NaN</td>\n      <td>NaN</td>\n      <td>25.0</td>\n      <td>3.0</td>\n    </tr>\n    <tr>\n      <th>4</th>\n      <td>L'Inferno</td>\n      <td>1911</td>\n      <td>1911-03-06</td>\n      <td>Adventure, Drama, Fantasy</td>\n      <td>68</td>\n      <td>Italy</td>\n      <td>Italian</td>\n      <td>Francesco Bertolini, Adolfo Padovan</td>\n      <td>Salvatore Papa, Arturo Pirovano, Giuseppe de L...</td>\n      <td>7.0</td>\n      <td>2237</td>\n      <td>NaN</td>\n      <td>NaN</td>\n      <td>NaN</td>\n      <td>NaN</td>\n      <td>31.0</td>\n      <td>14.0</td>\n    </tr>\n    <tr>\n      <th>...</th>\n      <td>...</td>\n      <td>...</td>\n      <td>...</td>\n      <td>...</td>\n      <td>...</td>\n      <td>...</td>\n      <td>...</td>\n      <td>...</td>\n      <td>...</td>\n      <td>...</td>\n      <td>...</td>\n      <td>...</td>\n      <td>...</td>\n      <td>...</td>\n      <td>...</td>\n      <td>...</td>\n      <td>...</td>\n    </tr>\n    <tr>\n      <th>85850</th>\n      <td>Le lion</td>\n      <td>2020</td>\n      <td>2020-01-29</td>\n      <td>Comedy</td>\n      <td>95</td>\n      <td>France, Belgium</td>\n      <td>French</td>\n      <td>Ludovic Colbeau-Justin</td>\n      <td>Dany Boon, Philippe Katerine, Anne Serra, Samu...</td>\n      <td>5.3</td>\n      <td>398</td>\n      <td>NaN</td>\n      <td>NaN</td>\n      <td>$3,507,171</td>\n      <td>NaN</td>\n      <td>NaN</td>\n      <td>4.0</td>\n    </tr>\n    <tr>\n      <th>85851</th>\n      <td>De Beentjes van Sint-Hildegard</td>\n      <td>2020</td>\n      <td>2020-02-13</td>\n      <td>Comedy, Drama</td>\n      <td>103</td>\n      <td>Netherlands</td>\n      <td>German, Dutch</td>\n      <td>Johan Nijenhuis</td>\n      <td>Herman Finkers, Johanna ter Steege, Leonie ter...</td>\n      <td>7.7</td>\n      <td>724</td>\n      <td>NaN</td>\n      <td>NaN</td>\n      <td>$7,299,062</td>\n      <td>NaN</td>\n      <td>6.0</td>\n      <td>4.0</td>\n    </tr>\n    <tr>\n      <th>85852</th>\n      <td>Padmavyuhathile Abhimanyu</td>\n      <td>2019</td>\n      <td>2019-03-08</td>\n      <td>Drama</td>\n      <td>130</td>\n      <td>India</td>\n      <td>Malayalam</td>\n      <td>Vineesh Aaradya</td>\n      <td>Anoop Chandran, Indrans, Sona Nair, Simon Brit...</td>\n      <td>7.9</td>\n      <td>265</td>\n      <td>NaN</td>\n      <td>NaN</td>\n      <td>NaN</td>\n      <td>NaN</td>\n      <td>NaN</td>\n      <td>NaN</td>\n    </tr>\n    <tr>\n      <th>85853</th>\n      <td>Sokagin Çocuklari</td>\n      <td>2019</td>\n      <td>2019-03-15</td>\n      <td>Drama, Family</td>\n      <td>98</td>\n      <td>Turkey</td>\n      <td>Turkish</td>\n      <td>Ahmet Faik Akinci</td>\n      <td>Ahmet Faik Akinci, Belma Mamati, Metin Keçeci,...</td>\n      <td>6.4</td>\n      <td>194</td>\n      <td>NaN</td>\n      <td>NaN</td>\n      <td>$2,833</td>\n      <td>NaN</td>\n      <td>NaN</td>\n      <td>NaN</td>\n    </tr>\n    <tr>\n      <th>85854</th>\n      <td>La vida sense la Sara Amat</td>\n      <td>2019</td>\n      <td>2020-02-05</td>\n      <td>Drama</td>\n      <td>74</td>\n      <td>Spain</td>\n      <td>Catalan</td>\n      <td>Laura Jou</td>\n      <td>Maria Morera Colomer, Biel Rossell Pelfort, Is...</td>\n      <td>6.7</td>\n      <td>102</td>\n      <td>NaN</td>\n      <td>NaN</td>\n      <td>$59,794</td>\n      <td>NaN</td>\n      <td>NaN</td>\n      <td>2.0</td>\n    </tr>\n  </tbody>\n</table>\n<p>85855 rows × 17 columns</p>\n</div>"
     },
     "metadata": {},
     "execution_count": 7
    }
   ],
   "source": [
    "import pandas as pd\n",
    "\n",
    "# usecols will specify columns we want to add from ths csv to our dataframe\n",
    "imdb = pd.read_csv(\"IMDB_movies.csv\", usecols=['title','year','date_published','genre','duration','country','language','director','actors','avg_vote','votes','budget','usa_gross_income','worldwide_gross_income','metascore','reviews_from_users','reviews_from_critics'])\n",
    "imdb"
   ]
  },
  {
   "cell_type": "code",
   "execution_count": null,
   "metadata": {},
   "outputs": [],
   "source": []
  }
 ]
}